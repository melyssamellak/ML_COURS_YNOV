{
 "cells": [
  {
   "cell_type": "code",
   "execution_count": 1,
   "id": "c443d8b5-c1f5-4e80-ba21-ce7d90fd1d23",
   "metadata": {},
   "outputs": [
    {
     "name": "stdout",
     "output_type": "stream",
     "text": [
      "Les fichiers ont été créés avec succès\n"
     ]
    }
   ],
   "source": [
    "import pandas as pd\n",
    "from sklearn.model_selection import train_test_split\n",
    "\n",
    "# Charger le fichier CSV dans un DataFrame\n",
    "df_train_housing = pd.read_csv('../ynov-data/train_housing.csv')\n",
    "\n",
    "# Diviser les données en 80% pour l'entraînement et 20% pour la validation\n",
    "train_set, validation_set = train_test_split(df_train_housing, test_size=0.3, random_state=42)\n",
    "\n",
    "# Sauvegarder les ensembles dans des fichiers CSV distincts\n",
    "train_set.to_csv('../ynov-data/train_housing_80.csv', index=False)\n",
    "validation_set.to_csv('../ynov-data/validation_housing_20.csv', index=False)\n",
    "\n",
    "print(\"Les fichiers ont été créés avec succès\")\n",
    "\n"
   ]
  },
  {
   "cell_type": "code",
   "execution_count": 2,
   "id": "5e41e6ac-f1a1-4377-bc30-24d3aacfab7d",
   "metadata": {},
   "outputs": [
    {
     "name": "stdout",
     "output_type": "stream",
     "text": [
      "La médiane des prix des maisons est : 179,350.00\n"
     ]
    }
   ],
   "source": [
    "def calculer_mediane_prix():\n",
    "    # Charger les données d'entraînement\n",
    "    train_data = pd.read_csv('../ynov-data/train_housing_80.csv')\n",
    "   \n",
    "    # Calculer la médiane de median_house_value\n",
    "    mediane = train_data['median_house_value'].median()\n",
    "   \n",
    "    print(f\"La médiane des prix des maisons est : {mediane:,.2f}\")\n",
    "   \n",
    "    return mediane\n",
    "\n",
    "valid_data = pd.read_csv('../ynov-data/validation_housing_20.csv')\n",
    " \n",
    " \n",
    "valid_data['prediction'] = calculer_mediane_prix()  # Ajout de la colonne prediction\n",
    "valid_data.to_csv('../ynov-data/validation_housing_20.csv', index=False)  # Enregistrer le fichier avec la nouvelle colonne\n",
    "\n",
    "\n"
   ]
  },
  {
   "cell_type": "code",
   "execution_count": 3,
   "id": "e7e46787-9dbf-4cef-8b7c-2c54d62c81d2",
   "metadata": {},
   "outputs": [
    {
     "name": "stdout",
     "output_type": "stream",
     "text": [
      "Erreur Absolue Moyenne (MAE) : 88,993.08\n",
      "Racine de l'Erreur Quadratique Moyenne (RMSE) : 120,127.71\n"
     ]
    }
   ],
   "source": [
    "from sklearn.metrics import mean_absolute_error, mean_squared_error\n",
    "import numpy as np\n",
    " \n",
    "def calculer_mae_rmse():\n",
    "    # Charger les données de validation\n",
    "    valid_data = pd.read_csv('../ynov-data/validation_housing_20.csv')\n",
    "   \n",
    "    # Calculer MAE\n",
    "    mae = mean_absolute_error(valid_data['median_house_value'], valid_data['prediction'])\n",
    "    rmse = np.sqrt(mean_squared_error(valid_data['median_house_value'], valid_data['prediction']))  # Suppression de RMSE\n",
    "   \n",
    "    print(f\"Erreur Absolue Moyenne (MAE) : {mae:,.2f}\")\n",
    "    print(f\"Racine de l'Erreur Quadratique Moyenne (RMSE) : {rmse:,.2f}\")  # Suppression de l'affichage de RMSE\n",
    " \n",
    "calculer_mae_rmse()  "
   ]
  },
  {
   "cell_type": "code",
   "execution_count": 4,
   "id": "43544a3c-8602-4383-a191-8fceec66a84e",
   "metadata": {},
   "outputs": [],
   "source": [
    "def creer_fichier_submission():\n",
    "    # Charger les bibliothèques nécessaires\n",
    "    import pandas as pd\n",
    " \n",
    "    # Charger les données de test\n",
    "    test_data = pd.read_csv('../ynov-data/test_housing.csv')\n",
    " \n",
    "    # Calculer la médiane de 'median_house_value' à partir des données d'entraînement\n",
    "    train_data = pd.read_csv('../ynov-data/train_housing_80.csv')\n",
    "    mediane = train_data['median_house_value'].median()\n",
    " \n",
    "    # Créer un DataFrame pour le fichier de soumission\n",
    "    submission = pd.DataFrame({\n",
    "        'id': test_data['id'],\n",
    "        'median_house_value': mediane\n",
    "    })\n",
    " \n",
    "    # Enregistrer le fichier de soumission\n",
    "    submission.to_csv('../ynov-data/submission_test.csv', index=False)\n",
    " \n",
    "# Appeler la fonction pour créer le fichier de soumission\n",
    "creer_fichier_submission()"
   ]
  }
 ],
 "metadata": {
  "kernelspec": {
   "display_name": "Python 3 (ipykernel)",
   "language": "python",
   "name": "python3"
  },
  "language_info": {
   "codemirror_mode": {
    "name": "ipython",
    "version": 3
   },
   "file_extension": ".py",
   "mimetype": "text/x-python",
   "name": "python",
   "nbconvert_exporter": "python",
   "pygments_lexer": "ipython3",
   "version": "3.12.2"
  }
 },
 "nbformat": 4,
 "nbformat_minor": 5
}
