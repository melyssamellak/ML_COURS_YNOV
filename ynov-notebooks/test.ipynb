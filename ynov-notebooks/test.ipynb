{
 "cells": [
  {
   "cell_type": "code",
   "execution_count": null,
   "metadata": {},
   "outputs": [],
   "source": [
    "import pandas as pd\n",
    "\n",
    "# Charger chaque fichier CSV dans un DataFrame différent\n",
    "df_submission = pd.read_csv(\"./ynov-data/submission.csv\")\n",
    "df_test_housing = pd.read_csv('./ynov-data/test_housing.csv')\n",
    "df_test_titanic = pd.read_csv('./ynov-data/test_titanic.csv')\n",
    "df_train_housing = pd.read_csv('./ynov-data/train_housing.csv')\n",
    "df_train_titanic = pd.read_csv('./ynov-data/train_titanic.csv')\n",
    "\n",
    "# Vérification : afficher un aperçu de chaque DataFrame\n",
    "print(\"--- Aperçu de submission.csv ---\")\n",
    "print(df_submission.head())\n",
    "\n",
    "print(\"\\n--- Aperçu de test_housing.csv ---\")\n",
    "print(df_test_housing.head())\n",
    "\n",
    "print(\"\\n--- Aperçu de test_titanic.csv ---\")\n",
    "print(df_test_titanic.head())\n",
    "\n",
    "print(\"\\n--- Aperçu de train_housing.csv ---\")\n",
    "print(df_train_housing.head())\n",
    "\n",
    "print(\"\\n--- Aperçu de train_titanic.csv ---\")\n",
    "print(df_train_titanic.head())\n"
   ]
  }
 ],
 "metadata": {
  "language_info": {
   "name": "python"
  }
 },
 "nbformat": 4,
 "nbformat_minor": 2
}
